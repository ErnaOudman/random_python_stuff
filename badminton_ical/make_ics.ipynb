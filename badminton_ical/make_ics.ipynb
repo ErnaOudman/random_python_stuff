{
 "cells": [
  {
   "cell_type": "code",
   "execution_count": 6,
   "metadata": {},
   "outputs": [],
   "source": [
    "import pandas as pd\n",
    "from icalendar import Calendar, Event\n",
    "from datetime import timedelta"
   ]
  },
  {
   "cell_type": "code",
   "execution_count": 7,
   "metadata": {},
   "outputs": [],
   "source": [
    "infile = 'team1_vj2020.csv'"
   ]
  },
  {
   "cell_type": "code",
   "execution_count": 8,
   "metadata": {},
   "outputs": [
    {
     "data": {
      "text/html": [
       "<div>\n",
       "<style scoped>\n",
       "    .dataframe tbody tr th:only-of-type {\n",
       "        vertical-align: middle;\n",
       "    }\n",
       "\n",
       "    .dataframe tbody tr th {\n",
       "        vertical-align: top;\n",
       "    }\n",
       "\n",
       "    .dataframe thead th {\n",
       "        text-align: right;\n",
       "    }\n",
       "</style>\n",
       "<table border=\"1\" class=\"dataframe\">\n",
       "  <thead>\n",
       "    <tr style=\"text-align: right;\">\n",
       "      <th></th>\n",
       "      <th>Datum_Tijd</th>\n",
       "      <th>Team Thuis</th>\n",
       "      <th>Team Uit</th>\n",
       "      <th>Beschrijving</th>\n",
       "      <th>Locatie</th>\n",
       "    </tr>\n",
       "  </thead>\n",
       "  <tbody>\n",
       "    <tr>\n",
       "      <th>0</th>\n",
       "      <td>2020-01-31 20:00:00</td>\n",
       "      <td>Sweti Day 1</td>\n",
       "      <td>BC Alblasserdam VC 1</td>\n",
       "      <td>THUIS: BC Alblasserdam VC 1</td>\n",
       "      <td>Buitenhof</td>\n",
       "    </tr>\n",
       "    <tr>\n",
       "      <th>1</th>\n",
       "      <td>2020-10-02 20:00:00</td>\n",
       "      <td>LBV De Pluimbal 1</td>\n",
       "      <td>Sweti Day 1</td>\n",
       "      <td>UIT: LBV De Pluimbal 1</td>\n",
       "      <td>Vreeloo, Veilingweg 16, De Lier</td>\n",
       "    </tr>\n",
       "    <tr>\n",
       "      <th>2</th>\n",
       "      <td>2020-02-14 19:45:00</td>\n",
       "      <td>BBS 1</td>\n",
       "      <td>Sweti Day 1</td>\n",
       "      <td>UIT: BBS 1</td>\n",
       "      <td>Sporthoeve, Vromade 1, Bodegraven</td>\n",
       "    </tr>\n",
       "    <tr>\n",
       "      <th>3</th>\n",
       "      <td>2020-02-17 19:30:00</td>\n",
       "      <td>BC Meteoor 1</td>\n",
       "      <td>Sweti Day 1</td>\n",
       "      <td>UIT: BC Meteroor 1</td>\n",
       "      <td>De Morgenstont, Forel 4, Hellevoetsluits</td>\n",
       "    </tr>\n",
       "    <tr>\n",
       "      <th>4</th>\n",
       "      <td>2020-02-20 20:00:00</td>\n",
       "      <td>BC Schoonhoven 2</td>\n",
       "      <td>Sweti Day 1</td>\n",
       "      <td>UIT: BC Schoonhoven 2</td>\n",
       "      <td>De Meent, 's-Heerenbergstraat 26, Schoonhoven</td>\n",
       "    </tr>\n",
       "  </tbody>\n",
       "</table>\n",
       "</div>"
      ],
      "text/plain": [
       "           Datum_Tijd         Team Thuis              Team Uit  \\\n",
       "0 2020-01-31 20:00:00        Sweti Day 1  BC Alblasserdam VC 1   \n",
       "1 2020-10-02 20:00:00  LBV De Pluimbal 1           Sweti Day 1   \n",
       "2 2020-02-14 19:45:00              BBS 1           Sweti Day 1   \n",
       "3 2020-02-17 19:30:00       BC Meteoor 1           Sweti Day 1   \n",
       "4 2020-02-20 20:00:00   BC Schoonhoven 2           Sweti Day 1   \n",
       "\n",
       "                 Beschrijving                                         Locatie  \n",
       "0  THUIS: BC Alblasserdam VC 1                                      Buitenhof  \n",
       "1       UIT: LBV De Pluimbal 1                Vreeloo, Veilingweg 16, De Lier  \n",
       "2                   UIT: BBS 1              Sporthoeve, Vromade 1, Bodegraven  \n",
       "3           UIT: BC Meteroor 1       De Morgenstont, Forel 4, Hellevoetsluits  \n",
       "4        UIT: BC Schoonhoven 2  De Meent, 's-Heerenbergstraat 26, Schoonhoven  "
      ]
     },
     "execution_count": 8,
     "metadata": {},
     "output_type": "execute_result"
    }
   ],
   "source": [
    "df = pd.read_csv(infile, parse_dates=[['Datum', 'Tijd']])\n",
    "df.head()"
   ]
  },
  {
   "cell_type": "code",
   "execution_count": 9,
   "metadata": {},
   "outputs": [
    {
     "data": {
      "text/html": [
       "<div>\n",
       "<style scoped>\n",
       "    .dataframe tbody tr th:only-of-type {\n",
       "        vertical-align: middle;\n",
       "    }\n",
       "\n",
       "    .dataframe tbody tr th {\n",
       "        vertical-align: top;\n",
       "    }\n",
       "\n",
       "    .dataframe thead th {\n",
       "        text-align: right;\n",
       "    }\n",
       "</style>\n",
       "<table border=\"1\" class=\"dataframe\">\n",
       "  <thead>\n",
       "    <tr style=\"text-align: right;\">\n",
       "      <th></th>\n",
       "      <th>Datum_Tijd</th>\n",
       "      <th>Team Thuis</th>\n",
       "      <th>Team Uit</th>\n",
       "      <th>Beschrijving</th>\n",
       "      <th>Locatie</th>\n",
       "      <th>end</th>\n",
       "    </tr>\n",
       "  </thead>\n",
       "  <tbody>\n",
       "    <tr>\n",
       "      <th>0</th>\n",
       "      <td>2020-01-31 20:00:00</td>\n",
       "      <td>Sweti Day 1</td>\n",
       "      <td>BC Alblasserdam VC 1</td>\n",
       "      <td>THUIS: BC Alblasserdam VC 1</td>\n",
       "      <td>Buitenhof</td>\n",
       "      <td>2020-01-31 23:00:00</td>\n",
       "    </tr>\n",
       "    <tr>\n",
       "      <th>1</th>\n",
       "      <td>2020-10-02 20:00:00</td>\n",
       "      <td>LBV De Pluimbal 1</td>\n",
       "      <td>Sweti Day 1</td>\n",
       "      <td>UIT: LBV De Pluimbal 1</td>\n",
       "      <td>Vreeloo, Veilingweg 16, De Lier</td>\n",
       "      <td>2020-10-02 23:00:00</td>\n",
       "    </tr>\n",
       "    <tr>\n",
       "      <th>2</th>\n",
       "      <td>2020-02-14 19:45:00</td>\n",
       "      <td>BBS 1</td>\n",
       "      <td>Sweti Day 1</td>\n",
       "      <td>UIT: BBS 1</td>\n",
       "      <td>Sporthoeve, Vromade 1, Bodegraven</td>\n",
       "      <td>2020-02-14 22:45:00</td>\n",
       "    </tr>\n",
       "    <tr>\n",
       "      <th>3</th>\n",
       "      <td>2020-02-17 19:30:00</td>\n",
       "      <td>BC Meteoor 1</td>\n",
       "      <td>Sweti Day 1</td>\n",
       "      <td>UIT: BC Meteroor 1</td>\n",
       "      <td>De Morgenstont, Forel 4, Hellevoetsluits</td>\n",
       "      <td>2020-02-17 22:30:00</td>\n",
       "    </tr>\n",
       "    <tr>\n",
       "      <th>4</th>\n",
       "      <td>2020-02-20 20:00:00</td>\n",
       "      <td>BC Schoonhoven 2</td>\n",
       "      <td>Sweti Day 1</td>\n",
       "      <td>UIT: BC Schoonhoven 2</td>\n",
       "      <td>De Meent, 's-Heerenbergstraat 26, Schoonhoven</td>\n",
       "      <td>2020-02-20 23:00:00</td>\n",
       "    </tr>\n",
       "  </tbody>\n",
       "</table>\n",
       "</div>"
      ],
      "text/plain": [
       "           Datum_Tijd         Team Thuis              Team Uit  \\\n",
       "0 2020-01-31 20:00:00        Sweti Day 1  BC Alblasserdam VC 1   \n",
       "1 2020-10-02 20:00:00  LBV De Pluimbal 1           Sweti Day 1   \n",
       "2 2020-02-14 19:45:00              BBS 1           Sweti Day 1   \n",
       "3 2020-02-17 19:30:00       BC Meteoor 1           Sweti Day 1   \n",
       "4 2020-02-20 20:00:00   BC Schoonhoven 2           Sweti Day 1   \n",
       "\n",
       "                 Beschrijving                                         Locatie  \\\n",
       "0  THUIS: BC Alblasserdam VC 1                                      Buitenhof   \n",
       "1       UIT: LBV De Pluimbal 1                Vreeloo, Veilingweg 16, De Lier   \n",
       "2                   UIT: BBS 1              Sporthoeve, Vromade 1, Bodegraven   \n",
       "3           UIT: BC Meteroor 1       De Morgenstont, Forel 4, Hellevoetsluits   \n",
       "4        UIT: BC Schoonhoven 2  De Meent, 's-Heerenbergstraat 26, Schoonhoven   \n",
       "\n",
       "                  end  \n",
       "0 2020-01-31 23:00:00  \n",
       "1 2020-10-02 23:00:00  \n",
       "2 2020-02-14 22:45:00  \n",
       "3 2020-02-17 22:30:00  \n",
       "4 2020-02-20 23:00:00  "
      ]
     },
     "execution_count": 9,
     "metadata": {},
     "output_type": "execute_result"
    }
   ],
   "source": [
    "df['end'] = df['Datum_Tijd'].apply(lambda x : x + timedelta(hours=3))\n",
    "df.head()"
   ]
  },
  {
   "cell_type": "code",
   "execution_count": 13,
   "metadata": {},
   "outputs": [
    {
     "data": {
      "text/plain": [
       "Index(['Datum_Tijd', 'Team Thuis', 'Team Uit', 'Beschrijving ', 'Locatie',\n",
       "       'end'],\n",
       "      dtype='object')"
      ]
     },
     "execution_count": 13,
     "metadata": {},
     "output_type": "execute_result"
    }
   ],
   "source": [
    "df.columns"
   ]
  },
  {
   "cell_type": "code",
   "execution_count": 10,
   "metadata": {},
   "outputs": [],
   "source": [
    "from icalendar import Calendar, Event\n"
   ]
  },
  {
   "cell_type": "code",
   "execution_count": 15,
   "metadata": {},
   "outputs": [],
   "source": [
    "cal = Calendar()\n",
    "for idx, row in df.iterrows():\n",
    "    event = Event()\n",
    "    event.add('summary', row['Beschrijving '])\n",
    "    event.add('descripton', row['Beschrijving '])\n",
    "    event.add('dtstart', row['Datum_Tijd'])\n",
    "    event.add('dtend', row['end'])\n",
    "    event.add('location', row['Locatie'])\n",
    "    cal.add_component(event)\n",
    "\n",
    "f = open('team1_voorjaar.ics', 'wb')\n",
    "f.write(cal.to_ical())\n",
    "f.close()"
   ]
  },
  {
   "cell_type": "code",
   "execution_count": null,
   "metadata": {},
   "outputs": [],
   "source": []
  }
 ],
 "metadata": {
  "kernelspec": {
   "display_name": "Python 3",
   "language": "python",
   "name": "python3"
  },
  "language_info": {
   "codemirror_mode": {
    "name": "ipython",
    "version": 3
   },
   "file_extension": ".py",
   "mimetype": "text/x-python",
   "name": "python",
   "nbconvert_exporter": "python",
   "pygments_lexer": "ipython3",
   "version": "3.6.4"
  }
 },
 "nbformat": 4,
 "nbformat_minor": 2
}
